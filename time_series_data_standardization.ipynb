{
 "cells": [
  {
   "cell_type": "markdown",
   "id": "69e9858a-3a0d-41ac-b116-1dc852777d99",
   "metadata": {},
   "source": [
    "# Time Series Data Standardization"
   ]
  },
  {
   "cell_type": "markdown",
   "id": "cce549d0-48a3-4149-9c61-3fdf01bd6662",
   "metadata": {},
   "source": [
    "This project revolves around the harmonization of time series data obtained from multiple sensors, characterized by varying sampling rates and temporal discretization. For instance, the project demonstrates this process using datasets from the PDI13215 (pressure sensor) and FI12110 (flow sensor), spanning observations over a period of several months. This project serves as an exemplar of the approach's versatility and can be seamlessly extended to harmonize and standardize datasets from various sensors."
   ]
  },
  {
   "cell_type": "markdown",
   "id": "259b1c38-d94f-4c7d-92af-303c61e95931",
   "metadata": {},
   "source": [
    "### Tasks"
   ]
  },
  {
   "cell_type": "markdown",
   "id": "a57a4646-8dad-4703-b2b3-36bc8f716195",
   "metadata": {},
   "source": [
    "1. #### Adaptive Temporal Data Transformation:"
   ]
  },
  {
   "cell_type": "markdown",
   "id": "d85c4079-efb6-431b-b138-9ba9594f6154",
   "metadata": {},
   "source": [
    "\n",
    " * Normalize disparate raw data into a standardized forma: Timestamp, PDI13215 Sensor Value, FI12110 Sensor Value\n",
    " * Address discrepancies in timestamps and missing values through interpolation, ensuring a consistent N-minute interval (10 minute interval in this example, e.g., 9:00, 9:10, 9:20, etc.). Excessively frequent data points (more frequent than once every N minutes) will be filtered out.\n"
   ]
  },
  {
   "cell_type": "markdown",
   "id": "a4ed9640-0e8e-4900-9736-220fa18e612d",
   "metadata": {},
   "source": [
    "2. #### Data Cleaning and Export:"
   ]
  },
  {
   "cell_type": "markdown",
   "id": "16053ee5-f14e-47c2-95b6-587c62dc81d8",
   "metadata": {},
   "source": [
    "- Remove rows cointaining empty or NULL values.\n",
    "- Save the processed data into a `.csv` file encoded in UTF-8, using a comma (`,`) as a delimiter, and timestamp format: `YYYY-MM-DD HH:MI:SS`\n",
    "- Format the output file similar to the provided template, which serves as a foundation for subsequent machine learning training and analysis:"
   ]
  },
  {
   "cell_type": "markdown",
   "id": "48c5a882-fbc0-44b2-b062-bb84a0a5c5aa",
   "metadata": {},
   "source": [
    "1: Point name, PDI13215, FI12110  \n",
    "2: Description, Value for PDI13215, Value for FI12110  \n",
    "3: Extended Name,  \n",
    "4: Extended Description,  \n",
    "5: Units, PSI, M3/h  \n",
    "6: TIMESTAMP, PDI13215_SENSOR_VALUE, FI12110_SENSOR_VALUE  \n"
   ]
  },
  {
   "cell_type": "markdown",
   "id": "d4db2cf1-9b55-46d1-9842-bb87f4b1bf05",
   "metadata": {},
   "source": [
    "<div class=\"alert alert-block alert-info\">\n",
    "<b>Tip:</b> This project serves as an example of the approach's applicability to PDI13215 and FI12110 data, but it can be readily tailored to handle similar challenges present in data collected from other sensors.\n",
    "</div>"
   ]
  },
  {
   "cell_type": "code",
   "execution_count": 29,
   "id": "level-nudist",
   "metadata": {},
   "outputs": [],
   "source": [
    "import pandas as pd\n",
    "import numpy as np\n",
    "import pyodbc\n",
    "from datetime import datetime\n",
    "import seaborn as sns\n",
    "import os\n",
    "import matplotlib.pyplot as plt"
   ]
  },
  {
   "cell_type": "code",
   "execution_count": 2,
   "id": "cf484c50-abc9-4306-87d9-87d6229ba312",
   "metadata": {},
   "outputs": [],
   "source": [
    "current_directory = os.getcwd()"
   ]
  },
  {
   "cell_type": "markdown",
   "id": "prostate-england",
   "metadata": {},
   "source": [
    "<b>Table_name_1:</b> FI12110_1 <br>\n",
    "<b>Columns:</b> Time Status Source Value <br>\n",
    "<b>Table_name_2:</b> PDI13215 <br>\n",
    "<b>Columns:</b> Time Source Value <br>"
   ]
  },
  {
   "cell_type": "markdown",
   "id": "70807c62-9d81-4546-b5ac-f164a30f3167",
   "metadata": {
    "jp-MarkdownHeadingCollapsed": true
   },
   "source": [
    "#### Reading data from SQL databases"
   ]
  },
  {
   "cell_type": "code",
   "execution_count": 3,
   "id": "57665a36-56c0-499c-ac6d-9c4e4e212c4f",
   "metadata": {},
   "outputs": [],
   "source": [
    "path1 = current_directory+'\\\\FI12110.accdb'\n",
    "path2 =  current_directory+'\\\\PDI13215.accdb'"
   ]
  },
  {
   "cell_type": "code",
   "execution_count": 33,
   "id": "f075652a-3f40-4e8e-a588-b17e5a4d098e",
   "metadata": {},
   "outputs": [],
   "source": [
    "conn = pyodbc.connect(f'Driver={{Microsoft Access Driver (*.mdb, *.accdb)}};DBQ={path1};')"
   ]
  },
  {
   "cell_type": "code",
   "execution_count": 34,
   "id": "tight-header",
   "metadata": {},
   "outputs": [
    {
     "name": "stderr",
     "output_type": "stream",
     "text": [
      "C:\\Users\\pauli\\AppData\\Local\\Temp\\ipykernel_16308\\2051993357.py:1: UserWarning: pandas only supports SQLAlchemy connectable (engine/connection) or database string URI or sqlite3 DBAPI2 connection. Other DBAPI2 objects are not tested. Please consider using SQLAlchemy.\n",
      "  FI12110 = pd.read_sql_query('select Time, Value from FI12110_1', parse_dates = {'Time':'%Y%m%d %H:%M:%S'}, con = conn)\n"
     ]
    }
   ],
   "source": [
    "FI12110 = pd.read_sql_query('select Time, Value from FI12110_1 WHERE Time IS NOT NULL AND Value IS NOT NULL', parse_dates = {'Time':'%Y%m%d %H:%M:%S'}, con = conn)"
   ]
  },
  {
   "cell_type": "code",
   "execution_count": 8,
   "id": "2f865a0b-f2fa-4c02-8c75-90b64496b9d1",
   "metadata": {},
   "outputs": [],
   "source": [
    "conn.close()"
   ]
  },
  {
   "cell_type": "code",
   "execution_count": 37,
   "id": "minus-tennis",
   "metadata": {},
   "outputs": [],
   "source": [
    "conn = pyodbc.connect(f'Driver={{Microsoft Access Driver (*.mdb, *.accdb)}};DBQ={path2};')"
   ]
  },
  {
   "cell_type": "code",
   "execution_count": 38,
   "id": "secondary-issue",
   "metadata": {},
   "outputs": [
    {
     "name": "stderr",
     "output_type": "stream",
     "text": [
      "C:\\Users\\pauli\\AppData\\Local\\Temp\\ipykernel_16308\\2213405838.py:1: UserWarning: pandas only supports SQLAlchemy connectable (engine/connection) or database string URI or sqlite3 DBAPI2 connection. Other DBAPI2 objects are not tested. Please consider using SQLAlchemy.\n",
      "  PDI13215 = pd.read_sql_query('select Time, Value from PDI13215', parse_dates = {'Time':'%Y%m%d %H:%M:%S'}, con = conn)\n"
     ]
    }
   ],
   "source": [
    "PDI13215 = pd.read_sql_query('select Time, Value from PDI13215', parse_dates = {'Time':'%Y%m%d %H:%M:%S'}, con = conn)"
   ]
  },
  {
   "cell_type": "code",
   "execution_count": 39,
   "id": "61a79b9c-b918-4a40-9daa-57608349556d",
   "metadata": {},
   "outputs": [],
   "source": [
    "conn.close()"
   ]
  },
  {
   "cell_type": "code",
   "execution_count": 22,
   "id": "attended-visibility",
   "metadata": {},
   "outputs": [
    {
     "data": {
      "text/plain": [
       "(13281216, 2)"
      ]
     },
     "execution_count": 22,
     "metadata": {},
     "output_type": "execute_result"
    }
   ],
   "source": [
    "FI12110.shape"
   ]
  },
  {
   "cell_type": "code",
   "execution_count": 24,
   "id": "driven-namibia",
   "metadata": {},
   "outputs": [
    {
     "data": {
      "text/plain": [
       "(12439496, 2)"
      ]
     },
     "execution_count": 24,
     "metadata": {},
     "output_type": "execute_result"
    }
   ],
   "source": [
    "PDI13215.shape"
   ]
  },
  {
   "cell_type": "code",
   "execution_count": 67,
   "id": "0e5b7a44-6690-44a9-8fa2-cf66b35e73a7",
   "metadata": {},
   "outputs": [
    {
     "data": {
      "text/html": [
       "<div>\n",
       "<style scoped>\n",
       "    .dataframe tbody tr th:only-of-type {\n",
       "        vertical-align: middle;\n",
       "    }\n",
       "\n",
       "    .dataframe tbody tr th {\n",
       "        vertical-align: top;\n",
       "    }\n",
       "\n",
       "    .dataframe thead th {\n",
       "        text-align: right;\n",
       "    }\n",
       "</style>\n",
       "<table border=\"1\" class=\"dataframe\">\n",
       "  <thead>\n",
       "    <tr style=\"text-align: right;\">\n",
       "      <th></th>\n",
       "      <th>Time</th>\n",
       "      <th>Value</th>\n",
       "    </tr>\n",
       "  </thead>\n",
       "  <tbody>\n",
       "    <tr>\n",
       "      <th>0</th>\n",
       "      <td>2019-10-01 09:00:01</td>\n",
       "      <td>503.131744</td>\n",
       "    </tr>\n",
       "    <tr>\n",
       "      <th>1</th>\n",
       "      <td>2019-10-01 09:00:27</td>\n",
       "      <td>507.307098</td>\n",
       "    </tr>\n",
       "    <tr>\n",
       "      <th>2</th>\n",
       "      <td>2019-10-01 09:00:28</td>\n",
       "      <td>503.131744</td>\n",
       "    </tr>\n",
       "    <tr>\n",
       "      <th>3</th>\n",
       "      <td>2019-10-01 09:00:30</td>\n",
       "      <td>507.307098</td>\n",
       "    </tr>\n",
       "    <tr>\n",
       "      <th>4</th>\n",
       "      <td>2019-10-01 09:00:31</td>\n",
       "      <td>503.131744</td>\n",
       "    </tr>\n",
       "  </tbody>\n",
       "</table>\n",
       "</div>"
      ],
      "text/plain": [
       "                 Time       Value\n",
       "0 2019-10-01 09:00:01  503.131744\n",
       "1 2019-10-01 09:00:27  507.307098\n",
       "2 2019-10-01 09:00:28  503.131744\n",
       "3 2019-10-01 09:00:30  507.307098\n",
       "4 2019-10-01 09:00:31  503.131744"
      ]
     },
     "execution_count": 67,
     "metadata": {},
     "output_type": "execute_result"
    }
   ],
   "source": [
    "FI12110.head()"
   ]
  },
  {
   "cell_type": "code",
   "execution_count": 64,
   "id": "87eb4fa5-eaa2-4941-97aa-dc0d7516784d",
   "metadata": {},
   "outputs": [
    {
     "data": {
      "text/html": [
       "<div>\n",
       "<style scoped>\n",
       "    .dataframe tbody tr th:only-of-type {\n",
       "        vertical-align: middle;\n",
       "    }\n",
       "\n",
       "    .dataframe tbody tr th {\n",
       "        vertical-align: top;\n",
       "    }\n",
       "\n",
       "    .dataframe thead th {\n",
       "        text-align: right;\n",
       "    }\n",
       "</style>\n",
       "<table border=\"1\" class=\"dataframe\">\n",
       "  <thead>\n",
       "    <tr style=\"text-align: right;\">\n",
       "      <th></th>\n",
       "      <th>Time</th>\n",
       "      <th>Value</th>\n",
       "    </tr>\n",
       "  </thead>\n",
       "  <tbody>\n",
       "    <tr>\n",
       "      <th>0</th>\n",
       "      <td>2019-10-01 00:15:25</td>\n",
       "      <td>70.0</td>\n",
       "    </tr>\n",
       "    <tr>\n",
       "      <th>1</th>\n",
       "      <td>2019-10-01 01:15:25</td>\n",
       "      <td>70.0</td>\n",
       "    </tr>\n",
       "    <tr>\n",
       "      <th>2</th>\n",
       "      <td>2019-10-01 02:15:26</td>\n",
       "      <td>70.0</td>\n",
       "    </tr>\n",
       "    <tr>\n",
       "      <th>3</th>\n",
       "      <td>2019-10-01 03:15:26</td>\n",
       "      <td>70.0</td>\n",
       "    </tr>\n",
       "    <tr>\n",
       "      <th>4</th>\n",
       "      <td>2019-10-01 04:15:27</td>\n",
       "      <td>70.0</td>\n",
       "    </tr>\n",
       "  </tbody>\n",
       "</table>\n",
       "</div>"
      ],
      "text/plain": [
       "                 Time  Value\n",
       "0 2019-10-01 00:15:25   70.0\n",
       "1 2019-10-01 01:15:25   70.0\n",
       "2 2019-10-01 02:15:26   70.0\n",
       "3 2019-10-01 03:15:26   70.0\n",
       "4 2019-10-01 04:15:27   70.0"
      ]
     },
     "execution_count": 64,
     "metadata": {},
     "output_type": "execute_result"
    }
   ],
   "source": [
    "PDI13215.head()"
   ]
  },
  {
   "cell_type": "markdown",
   "id": "60376485-9ec6-40b1-8aeb-3818098e1db8",
   "metadata": {
    "jp-MarkdownHeadingCollapsed": true
   },
   "source": [
    "#### Performing a merge operation between several DataFrames"
   ]
  },
  {
   "cell_type": "markdown",
   "id": "b984e108-86c8-4bc6-af53-5fe7cbdbb90d",
   "metadata": {},
   "source": [
    "Parameter how='outer' specifies that it's performing an outer join, which includes all rows from both DataFrames, merging where there are matching 'Time' values and filling in missing values with NaN (missing values)."
   ]
  },
  {
   "cell_type": "code",
   "execution_count": 41,
   "id": "unnecessary-puppy",
   "metadata": {},
   "outputs": [],
   "source": [
    "df = FI12110.merge(PDI13215, how='outer', on='Time')"
   ]
  },
  {
   "cell_type": "code",
   "execution_count": 42,
   "id": "affecting-rebound",
   "metadata": {},
   "outputs": [],
   "source": [
    "# Reassigning column names to the DataFrame\n",
    "df = df.sort_values(by=\"Time\").reset_index(drop = True)\n",
    "df.columns = ['Time', 'FI12110', 'PDI13215']"
   ]
  },
  {
   "cell_type": "code",
   "execution_count": 65,
   "id": "15a60c39-ab68-4834-883d-5ace63089baf",
   "metadata": {},
   "outputs": [
    {
     "data": {
      "text/html": [
       "<div>\n",
       "<style scoped>\n",
       "    .dataframe tbody tr th:only-of-type {\n",
       "        vertical-align: middle;\n",
       "    }\n",
       "\n",
       "    .dataframe tbody tr th {\n",
       "        vertical-align: top;\n",
       "    }\n",
       "\n",
       "    .dataframe thead th {\n",
       "        text-align: right;\n",
       "    }\n",
       "</style>\n",
       "<table border=\"1\" class=\"dataframe\">\n",
       "  <thead>\n",
       "    <tr style=\"text-align: right;\">\n",
       "      <th></th>\n",
       "      <th>Time</th>\n",
       "      <th>FI12110</th>\n",
       "      <th>PDI13215</th>\n",
       "    </tr>\n",
       "  </thead>\n",
       "  <tbody>\n",
       "    <tr>\n",
       "      <th>0</th>\n",
       "      <td>2019-10-01 00:15:25</td>\n",
       "      <td>NaN</td>\n",
       "      <td>70.0</td>\n",
       "    </tr>\n",
       "    <tr>\n",
       "      <th>1</th>\n",
       "      <td>2019-10-01 01:15:25</td>\n",
       "      <td>NaN</td>\n",
       "      <td>70.0</td>\n",
       "    </tr>\n",
       "    <tr>\n",
       "      <th>2</th>\n",
       "      <td>2019-10-01 02:15:26</td>\n",
       "      <td>NaN</td>\n",
       "      <td>70.0</td>\n",
       "    </tr>\n",
       "    <tr>\n",
       "      <th>3</th>\n",
       "      <td>2019-10-01 03:15:26</td>\n",
       "      <td>NaN</td>\n",
       "      <td>70.0</td>\n",
       "    </tr>\n",
       "    <tr>\n",
       "      <th>4</th>\n",
       "      <td>2019-10-01 04:15:27</td>\n",
       "      <td>NaN</td>\n",
       "      <td>70.0</td>\n",
       "    </tr>\n",
       "  </tbody>\n",
       "</table>\n",
       "</div>"
      ],
      "text/plain": [
       "                 Time  FI12110  PDI13215\n",
       "0 2019-10-01 00:15:25      NaN      70.0\n",
       "1 2019-10-01 01:15:25      NaN      70.0\n",
       "2 2019-10-01 02:15:26      NaN      70.0\n",
       "3 2019-10-01 03:15:26      NaN      70.0\n",
       "4 2019-10-01 04:15:27      NaN      70.0"
      ]
     },
     "execution_count": 65,
     "metadata": {},
     "output_type": "execute_result"
    }
   ],
   "source": [
    "df.head()"
   ]
  },
  {
   "cell_type": "markdown",
   "id": "3e60881e-7fe6-44d6-9119-f4fc32eb5550",
   "metadata": {
    "jp-MarkdownHeadingCollapsed": true
   },
   "source": [
    "#### Creating a heatmap representing null (missing) values in the DataFrame"
   ]
  },
  {
   "cell_type": "code",
   "execution_count": 31,
   "id": "paperback-honolulu",
   "metadata": {},
   "outputs": [
    {
     "data": {
      "text/plain": [
       "<Axes: >"
      ]
     },
     "execution_count": 31,
     "metadata": {},
     "output_type": "execute_result"
    },
    {
     "data": {
      "image/png": "[encoded data removed]",
      "text/plain": [
       "<Figure size 640x480 with 2 Axes>"
      ]
     },
     "metadata": {},
     "output_type": "display_data"
    }
   ],
   "source": [
    "colours = ['#000099', '#ffff00'] \n",
    "sns.heatmap(df[df.columns].isnull(), cmap=sns.color_palette(colours))"
   ]
  },
  {
   "cell_type": "code",
   "execution_count": 43,
   "id": "treated-parts",
   "metadata": {},
   "outputs": [
    {
     "data": {
      "text/plain": [
       "(14094870, 3)"
      ]
     },
     "execution_count": 43,
     "metadata": {},
     "output_type": "execute_result"
    }
   ],
   "source": [
    "df.shape"
   ]
  },
  {
   "cell_type": "code",
   "execution_count": 44,
   "id": "disturbed-status",
   "metadata": {},
   "outputs": [
    {
     "data": {
      "text/html": [
       "<div>\n",
       "<style scoped>\n",
       "    .dataframe tbody tr th:only-of-type {\n",
       "        vertical-align: middle;\n",
       "    }\n",
       "\n",
       "    .dataframe tbody tr th {\n",
       "        vertical-align: top;\n",
       "    }\n",
       "\n",
       "    .dataframe thead th {\n",
       "        text-align: right;\n",
       "    }\n",
       "</style>\n",
       "<table border=\"1\" class=\"dataframe\">\n",
       "  <thead>\n",
       "    <tr style=\"text-align: right;\">\n",
       "      <th></th>\n",
       "      <th>Time</th>\n",
       "      <th>FI12110</th>\n",
       "      <th>PDI13215</th>\n",
       "    </tr>\n",
       "  </thead>\n",
       "  <tbody>\n",
       "    <tr>\n",
       "      <th>0</th>\n",
       "      <td>2019-10-01 00:15:25</td>\n",
       "      <td>NaN</td>\n",
       "      <td>70.0</td>\n",
       "    </tr>\n",
       "    <tr>\n",
       "      <th>1</th>\n",
       "      <td>2019-10-01 01:15:25</td>\n",
       "      <td>NaN</td>\n",
       "      <td>70.0</td>\n",
       "    </tr>\n",
       "    <tr>\n",
       "      <th>2</th>\n",
       "      <td>2019-10-01 02:15:26</td>\n",
       "      <td>NaN</td>\n",
       "      <td>70.0</td>\n",
       "    </tr>\n",
       "    <tr>\n",
       "      <th>3</th>\n",
       "      <td>2019-10-01 03:15:26</td>\n",
       "      <td>NaN</td>\n",
       "      <td>70.0</td>\n",
       "    </tr>\n",
       "    <tr>\n",
       "      <th>4</th>\n",
       "      <td>2019-10-01 04:15:27</td>\n",
       "      <td>NaN</td>\n",
       "      <td>70.0</td>\n",
       "    </tr>\n",
       "  </tbody>\n",
       "</table>\n",
       "</div>"
      ],
      "text/plain": [
       "                 Time  FI12110  PDI13215\n",
       "0 2019-10-01 00:15:25      NaN      70.0\n",
       "1 2019-10-01 01:15:25      NaN      70.0\n",
       "2 2019-10-01 02:15:26      NaN      70.0\n",
       "3 2019-10-01 03:15:26      NaN      70.0\n",
       "4 2019-10-01 04:15:27      NaN      70.0"
      ]
     },
     "execution_count": 44,
     "metadata": {},
     "output_type": "execute_result"
    }
   ],
   "source": [
    "df.head()"
   ]
  },
  {
   "cell_type": "markdown",
   "id": "educational-refrigerator",
   "metadata": {
    "jp-MarkdownHeadingCollapsed": true
   },
   "source": [
    "#### Replacing duplicates by their mean values, converting dataframes to series"
   ]
  },
  {
   "cell_type": "code",
   "execution_count": 78,
   "id": "native-destruction",
   "metadata": {},
   "outputs": [],
   "source": [
    "FI12110 = FI12110.groupby('Time').mean().reset_index()"
   ]
  },
  {
   "cell_type": "code",
   "execution_count": 80,
   "id": "enhanced-atlas",
   "metadata": {},
   "outputs": [
    {
     "data": {
      "text/html": [
       "<div>\n",
       "<style scoped>\n",
       "    .dataframe tbody tr th:only-of-type {\n",
       "        vertical-align: middle;\n",
       "    }\n",
       "\n",
       "    .dataframe tbody tr th {\n",
       "        vertical-align: top;\n",
       "    }\n",
       "\n",
       "    .dataframe thead th {\n",
       "        text-align: right;\n",
       "    }\n",
       "</style>\n",
       "<table border=\"1\" class=\"dataframe\">\n",
       "  <thead>\n",
       "    <tr style=\"text-align: right;\">\n",
       "      <th></th>\n",
       "      <th>Time</th>\n",
       "      <th>Value</th>\n",
       "    </tr>\n",
       "  </thead>\n",
       "  <tbody>\n",
       "    <tr>\n",
       "      <th>0</th>\n",
       "      <td>2019-10-01 09:00:01</td>\n",
       "      <td>503.131744</td>\n",
       "    </tr>\n",
       "    <tr>\n",
       "      <th>1</th>\n",
       "      <td>2019-10-01 09:00:27</td>\n",
       "      <td>507.307098</td>\n",
       "    </tr>\n",
       "    <tr>\n",
       "      <th>2</th>\n",
       "      <td>2019-10-01 09:00:28</td>\n",
       "      <td>503.131744</td>\n",
       "    </tr>\n",
       "    <tr>\n",
       "      <th>3</th>\n",
       "      <td>2019-10-01 09:00:30</td>\n",
       "      <td>507.307098</td>\n",
       "    </tr>\n",
       "    <tr>\n",
       "      <th>4</th>\n",
       "      <td>2019-10-01 09:00:31</td>\n",
       "      <td>503.131744</td>\n",
       "    </tr>\n",
       "  </tbody>\n",
       "</table>\n",
       "</div>"
      ],
      "text/plain": [
       "                 Time       Value\n",
       "0 2019-10-01 09:00:01  503.131744\n",
       "1 2019-10-01 09:00:27  507.307098\n",
       "2 2019-10-01 09:00:28  503.131744\n",
       "3 2019-10-01 09:00:30  507.307098\n",
       "4 2019-10-01 09:00:31  503.131744"
      ]
     },
     "execution_count": 80,
     "metadata": {},
     "output_type": "execute_result"
    }
   ],
   "source": [
    "FI12110.head()"
   ]
  },
  {
   "cell_type": "code",
   "execution_count": 95,
   "id": "stuffed-leader",
   "metadata": {},
   "outputs": [],
   "source": [
    "FI = pd.Series(FI12110['Value'].values, index=FI12110['Time'].values)"
   ]
  },
  {
   "cell_type": "code",
   "execution_count": 49,
   "id": "conscious-mentor",
   "metadata": {},
   "outputs": [],
   "source": [
    "PDI13215 = PDI13215.groupby('Time').mean().reset_index()"
   ]
  },
  {
   "cell_type": "code",
   "execution_count": 81,
   "id": "dated-original",
   "metadata": {},
   "outputs": [
    {
     "data": {
      "text/html": [
       "<div>\n",
       "<style scoped>\n",
       "    .dataframe tbody tr th:only-of-type {\n",
       "        vertical-align: middle;\n",
       "    }\n",
       "\n",
       "    .dataframe tbody tr th {\n",
       "        vertical-align: top;\n",
       "    }\n",
       "\n",
       "    .dataframe thead th {\n",
       "        text-align: right;\n",
       "    }\n",
       "</style>\n",
       "<table border=\"1\" class=\"dataframe\">\n",
       "  <thead>\n",
       "    <tr style=\"text-align: right;\">\n",
       "      <th></th>\n",
       "      <th>Time</th>\n",
       "      <th>Value</th>\n",
       "    </tr>\n",
       "  </thead>\n",
       "  <tbody>\n",
       "    <tr>\n",
       "      <th>0</th>\n",
       "      <td>2019-10-01 00:15:25</td>\n",
       "      <td>70.0</td>\n",
       "    </tr>\n",
       "    <tr>\n",
       "      <th>1</th>\n",
       "      <td>2019-10-01 01:15:25</td>\n",
       "      <td>70.0</td>\n",
       "    </tr>\n",
       "    <tr>\n",
       "      <th>2</th>\n",
       "      <td>2019-10-01 02:15:26</td>\n",
       "      <td>70.0</td>\n",
       "    </tr>\n",
       "    <tr>\n",
       "      <th>3</th>\n",
       "      <td>2019-10-01 03:15:26</td>\n",
       "      <td>70.0</td>\n",
       "    </tr>\n",
       "    <tr>\n",
       "      <th>4</th>\n",
       "      <td>2019-10-01 04:15:27</td>\n",
       "      <td>70.0</td>\n",
       "    </tr>\n",
       "  </tbody>\n",
       "</table>\n",
       "</div>"
      ],
      "text/plain": [
       "                 Time  Value\n",
       "0 2019-10-01 00:15:25   70.0\n",
       "1 2019-10-01 01:15:25   70.0\n",
       "2 2019-10-01 02:15:26   70.0\n",
       "3 2019-10-01 03:15:26   70.0\n",
       "4 2019-10-01 04:15:27   70.0"
      ]
     },
     "execution_count": 81,
     "metadata": {},
     "output_type": "execute_result"
    }
   ],
   "source": [
    "PDI13215.head()"
   ]
  },
  {
   "cell_type": "code",
   "execution_count": 51,
   "id": "absent-sword",
   "metadata": {},
   "outputs": [],
   "source": [
    "PDI = pd.Series(PDI13215['Value'].values, index=PDI13215['Time'])"
   ]
  },
  {
   "cell_type": "code",
   "execution_count": 127,
   "id": "brown-publisher",
   "metadata": {},
   "outputs": [
    {
     "data": {
      "text/plain": [
       "2019-10-01 09:00:01    503.131744\n",
       "2019-10-01 09:00:27    507.307098\n",
       "2019-10-01 09:00:28    503.131744\n",
       "2019-10-01 09:00:30    507.307098\n",
       "2019-10-01 09:00:31    503.131744\n",
       "2019-10-01 09:00:34    507.307098\n",
       "2019-10-01 09:00:37    503.131744\n",
       "2019-10-01 09:00:39    507.307098\n",
       "2019-10-01 09:00:40    503.131744\n",
       "2019-10-01 09:00:48    507.307098\n",
       "dtype: float64"
      ]
     },
     "execution_count": 127,
     "metadata": {},
     "output_type": "execute_result"
    }
   ],
   "source": [
    "FI.head(10)"
   ]
  },
  {
   "cell_type": "code",
   "execution_count": 92,
   "id": "surrounded-silver",
   "metadata": {},
   "outputs": [
    {
     "data": {
      "text/plain": [
       "Time\n",
       "2019-10-01 00:15:25    70.0\n",
       "2019-10-01 01:15:25    70.0\n",
       "2019-10-01 02:15:26    70.0\n",
       "2019-10-01 03:15:26    70.0\n",
       "2019-10-01 04:15:27    70.0\n",
       "2019-10-01 05:15:27    70.0\n",
       "2019-10-01 06:15:27    70.0\n",
       "2019-10-01 07:15:28    70.0\n",
       "2019-10-01 08:15:29    70.0\n",
       "2019-10-01 09:15:29    70.0\n",
       "dtype: float64"
      ]
     },
     "execution_count": 92,
     "metadata": {},
     "output_type": "execute_result"
    }
   ],
   "source": [
    "PDI.head(10)"
   ]
  },
  {
   "cell_type": "markdown",
   "id": "naughty-bermuda",
   "metadata": {},
   "source": [
    "#### Resampling and interpolation"
   ]
  },
  {
   "cell_type": "markdown",
   "id": "a887bf6a-8367-426b-b55f-aa47736d8655",
   "metadata": {},
   "source": [
    "By using .nearest() first, you're filling the gaps by grabbing the nearest available value before proceeding with .interpolate(), which performs an interpolation between the filled points.  \n",
    "This approach is beneficial because .nearest() fills in the missing values by selecting the nearest known data point, and then .interpolate() smooths the data between these filled points, potentially providing a more accurate estimation of the missing values.  \n",
    "Adjust the method and parameters of the interpolation (_like cubic, polynomial, etc._) based on the characteristics of your data to achieve the best estimation between known data points while ensuring that the initial NaN values are adequately handled."
   ]
  },
  {
   "cell_type": "code",
   "execution_count": 141,
   "id": "behavioral-panic",
   "metadata": {},
   "outputs": [],
   "source": [
    "FI_res = FI.resample('10min').nearest().interpolate(method='cubic')"
   ]
  },
  {
   "cell_type": "code",
   "execution_count": 145,
   "id": "thermal-nirvana",
   "metadata": {},
   "outputs": [
    {
     "data": {
      "text/plain": [
       "2019-10-01 09:00:00    503.131744\n",
       "2019-10-01 09:10:00    517.745544\n",
       "2019-10-01 09:20:00    526.096313\n",
       "2019-10-01 09:30:00    517.745544\n",
       "2019-10-01 09:40:00    521.920898\n",
       "Freq: 10T, dtype: float64"
      ]
     },
     "execution_count": 145,
     "metadata": {},
     "output_type": "execute_result"
    }
   ],
   "source": [
    "FI_res.head(5)"
   ]
  },
  {
   "cell_type": "code",
   "execution_count": 146,
   "id": "numerical-speech",
   "metadata": {},
   "outputs": [],
   "source": [
    "PDI_res = PDI.resample('10min').nearest().interpolate(method='cubic')"
   ]
  },
  {
   "cell_type": "code",
   "execution_count": 147,
   "id": "blessed-conjunction",
   "metadata": {},
   "outputs": [
    {
     "name": "stdout",
     "output_type": "stream",
     "text": [
      "Time\n",
      "2019-10-01 00:10:00    70.000000\n",
      "2019-10-01 00:20:00    70.000000\n",
      "2019-10-01 00:30:00    70.000000\n",
      "2019-10-01 00:40:00    70.000000\n",
      "2019-10-01 00:50:00    70.000000\n",
      "                         ...    \n",
      "2020-03-30 23:20:00    18.217087\n",
      "2020-03-30 23:30:00    18.836842\n",
      "2020-03-30 23:40:00    16.967981\n",
      "2020-03-30 23:50:00    17.616421\n",
      "2020-03-31 00:00:00    18.869862\n",
      "Freq: 10T, Length: 26208, dtype: float64\n"
     ]
    }
   ],
   "source": [
    "print(PDI_res)"
   ]
  },
  {
   "cell_type": "code",
   "execution_count": 148,
   "id": "independent-vinyl",
   "metadata": {},
   "outputs": [],
   "source": [
    "FI_res = pd.DataFrame({'Time':FI_res.index, 'FI12110':FI_res.values})\n",
    "PDI_res = pd.DataFrame({'Time':PDI_res.index, 'PDI13215':PDI_res.values})"
   ]
  },
  {
   "cell_type": "code",
   "execution_count": 149,
   "id": "invisible-retailer",
   "metadata": {},
   "outputs": [],
   "source": [
    "df_final = FI_res.merge(PDI_res, how='inner', on='Time').sort_values(by=\"Time\").reset_index(drop = True)"
   ]
  },
  {
   "cell_type": "markdown",
   "id": "inner-plasma",
   "metadata": {},
   "source": [
    "### Heatmap (df_final)"
   ]
  },
  {
   "cell_type": "code",
   "execution_count": 150,
   "id": "protecting-diagnosis",
   "metadata": {},
   "outputs": [
    {
     "data": {
      "text/plain": [
       "<Axes: >"
      ]
     },
     "execution_count": 150,
     "metadata": {},
     "output_type": "execute_result"
    },
    {
     "data": {
      "image/png": "[encoded data removed]",
      "text/plain": [
       "<Figure size 640x480 with 2 Axes>"
      ]
     },
     "metadata": {},
     "output_type": "display_data"
    }
   ],
   "source": [
    "sns.heatmap(df_final[df_final.columns].isnull(), cmap=sns.color_palette(colours))"
   ]
  },
  {
   "cell_type": "code",
   "execution_count": 152,
   "id": "promising-egypt",
   "metadata": {},
   "outputs": [
    {
     "name": "stdout",
     "output_type": "stream",
     "text": [
      "<class 'pandas.core.frame.DataFrame'>\n",
      "RangeIndex: 26155 entries, 0 to 26154\n",
      "Data columns (total 3 columns):\n",
      " #   Column    Non-Null Count  Dtype         \n",
      "---  ------    --------------  -----         \n",
      " 0   Time      26155 non-null  datetime64[ns]\n",
      " 1   FI12110   26155 non-null  float64       \n",
      " 2   PDI13215  26155 non-null  float64       \n",
      "dtypes: datetime64[ns](1), float64(2)\n",
      "memory usage: 613.1 KB\n"
     ]
    }
   ],
   "source": [
    "df_final.info()"
   ]
  },
  {
   "cell_type": "markdown",
   "id": "greater-stuart",
   "metadata": {},
   "source": [
    "### Writing a pandas DataFrame to a CSV file"
   ]
  },
  {
   "cell_type": "markdown",
   "id": "incredible-belarus",
   "metadata": {},
   "source": [
    "Point name,PDI13215,FI12110 <br>\n",
    "Description,Значение для PDI13215,Значение для FI12110 <br>\n",
    "Extended Name,, <br>\n",
    "Extended Description,, <br>\n",
    "Units,PSI,M3/h<br>"
   ]
  },
  {
   "cell_type": "code",
   "execution_count": 157,
   "id": "therapeutic-peoples",
   "metadata": {},
   "outputs": [],
   "source": [
    "df_final.loc[-4] = ['Description','Pressure PDI13215','Flow rate FI12110']\n",
    "df_final.loc[-3] = ['Extended Name', np.nan ,np.nan]\n",
    "df_final.loc[-2] = ['Extended Description', np.nan ,np.nan]\n",
    "df_final.loc[-1] = ['Units','PSI','M3/h']"
   ]
  },
  {
   "cell_type": "code",
   "execution_count": 158,
   "id": "flush-accountability",
   "metadata": {},
   "outputs": [],
   "source": [
    "df_final.index += 4"
   ]
  },
  {
   "cell_type": "code",
   "execution_count": 159,
   "id": "healthy-antigua",
   "metadata": {},
   "outputs": [],
   "source": [
    "df_final = df_final.sort_index()"
   ]
  },
  {
   "cell_type": "code",
   "execution_count": 160,
   "id": "assigned-psychiatry",
   "metadata": {},
   "outputs": [],
   "source": [
    "df_final.to_csv('out.csv', sep = ',', index = False, header = ['Point name','PDI13215','FI12110'])"
   ]
  }
 ],
 "metadata": {
  "kernelspec": {
   "display_name": "Python 3 (ipykernel)",
   "language": "python",
   "name": "python3"
  },
  "language_info": {
   "codemirror_mode": {
    "name": "ipython",
    "version": 3
   },
   "file_extension": ".py",
   "mimetype": "text/x-python",
   "name": "python",
   "nbconvert_exporter": "python",
   "pygments_lexer": "ipython3",
   "version": "3.11.4"
  }
 },
 "nbformat": 4,
 "nbformat_minor": 5
}
